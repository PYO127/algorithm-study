{
 "cells": [
  {
   "cell_type": "code",
   "execution_count": 6,
   "outputs": [
    {
     "data": {
      "text/plain": "1"
     },
     "execution_count": 6,
     "metadata": {},
     "output_type": "execute_result"
    }
   ],
   "source": [
    "import collections\n",
    "\n",
    "import q32 as q_now\n",
    "import importlib\n",
    "from ListNode import ListNode\n",
    "\n",
    "importlib.reload(q_now)\n",
    "S = q_now.Solution()\n",
    "\n",
    "\n",
    "grid = [\n",
    "  [\"1\",\"1\",\"1\",\"1\",\"0\"],\n",
    "  [\"1\",\"1\",\"0\",\"1\",\"0\"],\n",
    "  [\"1\",\"1\",\"0\",\"0\",\"0\"],\n",
    "  [\"0\",\"0\",\"0\",\"0\",\"0\"]\n",
    "]\n",
    "\n",
    "S.numIslands(grid)\n"
   ],
   "metadata": {
    "collapsed": false,
    "pycharm": {
     "name": "#%%\n"
    }
   }
  },
  {
   "cell_type": "code",
   "execution_count": 10,
   "outputs": [
    {
     "data": {
      "text/plain": "[[1, 2, 3], [1, 3, 2], [2, 1, 3], [2, 3, 1], [3, 1, 2], [3, 2, 1]]"
     },
     "execution_count": 10,
     "metadata": {},
     "output_type": "execute_result"
    }
   ],
   "source": [
    "import q34 as q_now\n",
    "import importlib\n",
    "from ListNode import ListNode\n",
    "\n",
    "importlib.reload(q_now)\n",
    "S = q_now.Solution()\n",
    "S.permute_itertools([1,2,3])"
   ],
   "metadata": {
    "collapsed": false,
    "pycharm": {
     "name": "#%%\n"
    }
   }
  },
  {
   "cell_type": "code",
   "execution_count": null,
   "outputs": [],
   "source": [
    "import q35 as q_now\n",
    "import importlib\n",
    "from ListNode import ListNode\n",
    "\n",
    "importlib.reload(q_now)\n",
    "S = q_now.Solution()\n",
    "S.combine_itertools(4,2)"
   ],
   "metadata": {
    "collapsed": false,
    "pycharm": {
     "name": "#%%\n"
    }
   }
  },
  {
   "cell_type": "code",
   "execution_count": 29,
   "outputs": [
    {
     "name": "stdout",
     "output_type": "stream",
     "text": [
      "[[1, 2, 3], [1, 3, 2], [2, 1, 3], [2, 3, 1], [3, 1, 2], [3, 2, 1]]\n"
     ]
    }
   ],
   "source": [
    "# 20221026 q36 순열 연습\n",
    "from typing import List\n",
    "\n",
    "ans = []\n",
    "\n",
    "def permute(from_element: List[int], to_element: List[int]=[]):\n",
    "    if not from_element:\n",
    "        ans.append(to_element[:])\n",
    "\n",
    "    for e in from_element:\n",
    "        next_element = from_element[:]\n",
    "        next_element.remove(e)\n",
    "        to_element.append(e)\n",
    "        permute(next_element, to_element)\n",
    "        to_element.remove(e)\n",
    "\n",
    "permute([1,2,3])\n",
    "print(ans)"
   ],
   "metadata": {
    "collapsed": false,
    "pycharm": {
     "name": "#%%\n"
    }
   }
  },
  {
   "cell_type": "code",
   "execution_count": 52,
   "outputs": [
    {
     "data": {
      "text/plain": "[[1, 2], [1, 3], [1, 4], [2, 3], [2, 4], [3, 4]]"
     },
     "execution_count": 52,
     "metadata": {},
     "output_type": "execute_result"
    }
   ],
   "source": [
    "def combination(n: int, k: int):\n",
    "    ans = []\n",
    "    prev_element = []\n",
    "    def dfs(n: int, k: int, start: int)->None:\n",
    "        if k == 0:\n",
    "            ans.append(prev_element[:])\n",
    "            return\n",
    "\n",
    "        for e in range(start, n+1):\n",
    "            prev_element.append(e)\n",
    "            dfs(n, k-1, e+1)\n",
    "            prev_element.remove(e)\n",
    "\n",
    "    dfs(4, 2, 1)\n",
    "\n",
    "    return ans\n",
    "\n",
    "combination(4,2)"
   ],
   "metadata": {
    "collapsed": false,
    "pycharm": {
     "name": "#%%\n"
    }
   }
  },
  {
   "cell_type": "code",
   "execution_count": 55,
   "outputs": [
    {
     "name": "stdout",
     "output_type": "stream",
     "text": [
      "[[1, 2, 3], [1, 3, 2], [2, 1, 3], [2, 3, 1], [3, 1, 2], [3, 2, 1]]\n"
     ]
    },
    {
     "data": {
      "text/plain": "[[1, 2], [1, 3], [1, 4], [2, 3], [2, 4], [3, 4]]"
     },
     "execution_count": 55,
     "metadata": {},
     "output_type": "execute_result"
    }
   ],
   "source": [
    "import itertools\n",
    "print(list(map(list, itertools.permutations([1,2,3]))))\n",
    "\n",
    "n, k = 4, 2\n",
    "list(map(list, itertools.combinations(range(1,n+1), k)))\n"
   ],
   "metadata": {
    "collapsed": false,
    "pycharm": {
     "name": "#%%\n"
    }
   }
  },
  {
   "cell_type": "code",
   "execution_count": 67,
   "outputs": [
    {
     "name": "stdout",
     "output_type": "stream",
     "text": [
      "[[2, 2, 3], [7]]\n"
     ]
    }
   ],
   "source": [
    "# 20221026 Q36 조합의 합 복습\n",
    "class Solution:\n",
    "    def combinationSum(self, candidates: List[int], target: int)->List[List[int]]:\n",
    "        ans = []\n",
    "        def dfs(curr_target: int, path: List[int], index:int):\n",
    "            if curr_target < 0:\n",
    "                return\n",
    "            if curr_target == 0:\n",
    "                ans.append(path)\n",
    "                return\n",
    "\n",
    "            for i in range(index, len(candidates)):\n",
    "                dfs(curr_target-candidates[i], path+[candidates[i]], i)\n",
    "\n",
    "        dfs(target, [], 0)\n",
    "        return ans\n",
    "\n",
    "S = Solution().combinationSum([2,3,6,7], 7)\n",
    "print(S)"
   ],
   "metadata": {
    "collapsed": false,
    "pycharm": {
     "name": "#%%\n"
    }
   }
  },
  {
   "cell_type": "code",
   "execution_count": 71,
   "outputs": [
    {
     "name": "stdout",
     "output_type": "stream",
     "text": [
      "[[], [3], [2], [2, 3], [1], [1, 3], [1, 2], [1, 2, 3]]\n"
     ]
    }
   ],
   "source": [
    "# 20221026 Q37 부분집합 복습\n",
    "class Solution:\n",
    "    def subsets(self, nums: List[int]) -> List[List[int]]:\n",
    "        ans = []\n",
    "        # 선택하거나, 선택하지않거나\n",
    "        def dfs(path, index):\n",
    "            if index == len(nums):\n",
    "                ans.append(path[:])\n",
    "                return\n",
    "\n",
    "            dfs(path, index+1)\n",
    "            dfs(path+[nums[index]], index+1)\n",
    "\n",
    "        dfs([], 0)\n",
    "        return ans\n",
    "\n",
    "S = Solution().subsets([1,2,3])\n",
    "print(S)"
   ],
   "metadata": {
    "collapsed": false,
    "pycharm": {
     "name": "#%%\n"
    }
   }
  },
  {
   "cell_type": "code",
   "execution_count": 76,
   "outputs": [
    {
     "data": {
      "text/plain": "3"
     },
     "execution_count": 76,
     "metadata": {},
     "output_type": "execute_result"
    }
   ],
   "source": [
    "# 20221022 q32 섬의 개수 복습 DFS\n",
    "\n",
    "class Solution:\n",
    "    def numIslands(self, grid: List[List[str]]) -> int:\n",
    "        n = len(grid)\n",
    "        m = len(grid[0])\n",
    "\n",
    "        def dfs(x: int, y:int):\n",
    "            if grid[x][y] != \"1\":\n",
    "                return\n",
    "            grid[x][y] = \"0\"\n",
    "            if x+1 < n :\n",
    "                dfs(x+1, y)\n",
    "            if x-1 >= 0:\n",
    "               dfs(x-1, y)\n",
    "            if y+1 < m:\n",
    "                dfs(x, y+1)\n",
    "            if y-1 >= 0:\n",
    "                dfs(x, y-1)\n",
    "        cnt = 0\n",
    "        for i in range(n):\n",
    "            for j in range(m):\n",
    "                if grid[i][j] == \"1\":\n",
    "                    dfs(i,j)\n",
    "                    cnt +=1\n",
    "\n",
    "        return cnt\n",
    "\n",
    "grid = [\n",
    "  [\"1\",\"1\",\"0\",\"0\",\"0\"],\n",
    "  [\"1\",\"1\",\"0\",\"0\",\"0\"],\n",
    "  [\"0\",\"0\",\"1\",\"0\",\"0\"],\n",
    "  [\"0\",\"0\",\"0\",\"1\",\"1\"]\n",
    "]\n",
    "Solution().numIslands(grid)\n"
   ],
   "metadata": {
    "collapsed": false,
    "pycharm": {
     "name": "#%%\n"
    }
   }
  },
  {
   "cell_type": "code",
   "execution_count": 78,
   "outputs": [
    {
     "data": {
      "text/plain": "3"
     },
     "execution_count": 78,
     "metadata": {},
     "output_type": "execute_result"
    }
   ],
   "source": [
    "# 20221022 q32 섬의 개수 복습 BFS\n",
    "import collections\n",
    "\n",
    "class Solution:\n",
    "    def numIslands(self, grid: List[List[str]]) -> int:\n",
    "        d = [0,1,0,-1,0]\n",
    "        def bfs(x: int, y :int):\n",
    "            queue = collections.deque()\n",
    "            queue.append((x,y))\n",
    "            grid[x][y] = '0'\n",
    "            while queue:\n",
    "                x, y = queue.popleft()\n",
    "                for i in range(4):\n",
    "                    nx = x + d[i]\n",
    "                    ny = y + d[i+1]\n",
    "                    if nx < 0 or nx > n-1 or ny < 0 or ny > m-1 or grid[nx][ny] != '1':\n",
    "                        continue\n",
    "                    queue.append((nx,ny))\n",
    "                    grid[nx][ny] = '0'\n",
    "\n",
    "        n ,m = len(grid), len(grid[0])\n",
    "        cnt = 0\n",
    "        for i in range(n):\n",
    "            for j in range(m):\n",
    "                if grid[i][j] == '1':\n",
    "                    bfs(i, j)\n",
    "                    cnt += 1\n",
    "        return cnt\n",
    "\n",
    "grid = [\n",
    "  [\"1\",\"1\",\"0\",\"0\",\"0\"],\n",
    "  [\"1\",\"1\",\"0\",\"0\",\"0\"],\n",
    "  [\"0\",\"0\",\"1\",\"0\",\"0\"],\n",
    "  [\"0\",\"0\",\"0\",\"1\",\"1\"]\n",
    "]\n",
    "Solution().numIslands(grid)\n"
   ],
   "metadata": {
    "collapsed": false,
    "pycharm": {
     "name": "#%%\n"
    }
   }
  },
  {
   "cell_type": "code",
   "execution_count": 80,
   "outputs": [
    {
     "data": {
      "text/plain": "1"
     },
     "execution_count": 80,
     "metadata": {},
     "output_type": "execute_result"
    }
   ],
   "source": [
    "# 20221029 p331 Q32 섬의 개수 복습\n",
    "class Solution:\n",
    "    def numIslands(self, grid: List[List[str]]) -> int:\n",
    "        n = len(grid)\n",
    "        m = len(grid[0])\n",
    "        def dfs(x: int, y: int)-> None:\n",
    "            grid[x][y] = '0'\n",
    "            if x+1 < n and grid[x+1][y] == '1':\n",
    "                dfs(x+1,y)\n",
    "            if y+1 < m and grid[x][y+1] == '1':\n",
    "                dfs(x,y+1)\n",
    "            if x-1 >= 0 and grid[x-1][y] == '1':\n",
    "                dfs(x-1,y)\n",
    "            if y-1 >= 0 and grid[x][y-1] == '1':\n",
    "                dfs(x,y-1)\n",
    "        cnt = 0\n",
    "        for i in range(n):\n",
    "            for j in range(m):\n",
    "                if grid[i][j] == '1':\n",
    "                    dfs(i,j)\n",
    "                    cnt += 1\n",
    "\n",
    "        return cnt\n",
    "\n",
    "grid = [\n",
    "  [\"1\",\"1\",\"1\",\"1\",\"0\"],\n",
    "  [\"1\",\"1\",\"0\",\"1\",\"0\"],\n",
    "  [\"1\",\"1\",\"0\",\"0\",\"0\"],\n",
    "  [\"0\",\"0\",\"0\",\"0\",\"0\"]\n",
    "]\n",
    "\n",
    "Solution().numIslands(grid)\n",
    "\n",
    "\n",
    "# Nested Function (중첩함수) p336\n",
    "# 부모함수의 변수 사용가능"
   ],
   "metadata": {
    "collapsed": false,
    "pycharm": {
     "name": "#%%\n"
    }
   }
  },
  {
   "cell_type": "code",
   "execution_count": 92,
   "outputs": [
    {
     "data": {
      "text/plain": "['adg',\n 'adh',\n 'adi',\n 'aeg',\n 'aeh',\n 'aei',\n 'afg',\n 'afh',\n 'afi',\n 'bdg',\n 'bdh',\n 'bdi',\n 'beg',\n 'beh',\n 'bei',\n 'bfg',\n 'bfh',\n 'bfi',\n 'cdg',\n 'cdh',\n 'cdi',\n 'ceg',\n 'ceh',\n 'cei',\n 'cfg',\n 'cfh',\n 'cfi']"
     },
     "execution_count": 92,
     "metadata": {},
     "output_type": "execute_result"
    }
   ],
   "source": [
    "# 20221029 p338 전화 번호 문자 조합\n",
    "class Solution:\n",
    "    def letterCombinations(self, digits: str) -> List[str]:\n",
    "        # Input: digits = \"23\"\n",
    "        # Output: [\"ad\",\"ae\",\"af\",\"bd\",\"be\",\"bf\",\"cd\",\"ce\",\"cf\"]\n",
    "        keymap = {\n",
    "            \"2\": \"abc\",\n",
    "            \"3\": \"def\",\n",
    "            \"4\": \"ghi\",\n",
    "            \"5\": \"jkl\",\n",
    "            \"6\": \"mno\",\n",
    "            \"7\": \"pqrs\",\n",
    "            \"8\": \"tuv\",\n",
    "            \"9\": \"wxyz\",\n",
    "        }\n",
    "        ans = []\n",
    "        if not digits:\n",
    "            return\n",
    "        def dfs(index, path):\n",
    "            if len(digits) == len(path):\n",
    "                ans.append(path)\n",
    "                return\n",
    "            for j in keymap[digits[index]]:\n",
    "                dfs(index+1, path+j)\n",
    "\n",
    "        dfs(0, '')\n",
    "        return ans\n",
    "\n",
    "Solution().letterCombinations(\"234\")"
   ],
   "metadata": {
    "collapsed": false,
    "pycharm": {
     "name": "#%%\n"
    }
   }
  },
  {
   "cell_type": "code",
   "execution_count": 91,
   "outputs": [
    {
     "data": {
      "text/plain": "['adg',\n 'adh',\n 'adi',\n 'aeg',\n 'aeh',\n 'aei',\n 'afg',\n 'afh',\n 'afi',\n 'bdg',\n 'bdh',\n 'bdi',\n 'beg',\n 'beh',\n 'bei',\n 'bfg',\n 'bfh',\n 'bfi',\n 'cdg',\n 'cdh',\n 'cdi',\n 'ceg',\n 'ceh',\n 'cei',\n 'cfg',\n 'cfh',\n 'cfi']"
     },
     "execution_count": 91,
     "metadata": {},
     "output_type": "execute_result"
    }
   ],
   "source": [
    "class Solution:\n",
    "    def letterCombinations(self, digits: str) -> List[str]:\n",
    "        def dfs(index, path):\n",
    "            # 끝까지 탐색하면 백트래킹\n",
    "            if len(path) == len(digits):\n",
    "                result.append(path)\n",
    "                return\n",
    "\n",
    "            # 입력값 자릿수 단위 반복\n",
    "            for i in range(index, len(digits)):\n",
    "                # 숫자에 해당하는 모든 문자열 반복\n",
    "                for j in dic[digits[i]]:\n",
    "                    dfs(i + 1, path + j)\n",
    "\n",
    "        # 예외 처리\n",
    "        if not digits:\n",
    "            return []\n",
    "\n",
    "        dic = {\"2\": \"abc\", \"3\": \"def\", \"4\": \"ghi\", \"5\": \"jkl\",\n",
    "               \"6\": \"mno\", \"7\": \"pqrs\", \"8\": \"tuv\", \"9\": \"wxyz\"}\n",
    "        result = []\n",
    "        dfs(0, \"\")\n",
    "\n",
    "        return result\n",
    "\n",
    "Solution().letterCombinations(\"234\")\n"
   ],
   "metadata": {
    "collapsed": false,
    "pycharm": {
     "name": "#%%\n"
    }
   }
  }
 ],
 "metadata": {
  "kernelspec": {
   "display_name": "Python 3",
   "language": "python",
   "name": "python3"
  },
  "language_info": {
   "codemirror_mode": {
    "name": "ipython",
    "version": 2
   },
   "file_extension": ".py",
   "mimetype": "text/x-python",
   "name": "python",
   "nbconvert_exporter": "python",
   "pygments_lexer": "ipython2",
   "version": "2.7.6"
  }
 },
 "nbformat": 4,
 "nbformat_minor": 0
}