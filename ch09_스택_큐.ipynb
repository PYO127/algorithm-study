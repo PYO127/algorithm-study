{
 "cells": [
  {
   "cell_type": "code",
   "execution_count": 1,
   "metadata": {
    "collapsed": true,
    "pycharm": {
     "name": "#%%\n"
    }
   },
   "outputs": [
    {
     "data": {
      "text/plain": "False"
     },
     "execution_count": 1,
     "metadata": {},
     "output_type": "execute_result"
    }
   ],
   "source": [
    "import q20 as q_now\n",
    "import importlib\n",
    "from ListNode import ListNode\n",
    "\n",
    "importlib.reload(q_now)\n",
    "S = q_now.solution()\n",
    "\n",
    "\n",
    "tmp = {'(': ')',\n",
    "       '[': ']',\n",
    "       '{': '}'}\n",
    "\n",
    "string = '[}'\n",
    "S.isValid(string)"
   ]
  },
  {
   "cell_type": "code",
   "execution_count": 2,
   "outputs": [
    {
     "data": {
      "text/plain": "'acdb'"
     },
     "execution_count": 2,
     "metadata": {},
     "output_type": "execute_result"
    }
   ],
   "source": [
    "import q21 as q_now\n",
    "import importlib\n",
    "from ListNode import ListNode\n",
    "\n",
    "importlib.reload(q_now)\n",
    "S = q_now.solution()\n",
    "\n",
    "#S.removeDuplicateLetters_recursive('cdacdcbc')\n",
    "S.removeDuplicateLetters_stack('cdacdcbc')\n"
   ],
   "metadata": {
    "collapsed": false,
    "pycharm": {
     "name": "#%%\n"
    }
   }
  },
  {
   "cell_type": "code",
   "execution_count": 3,
   "outputs": [
    {
     "data": {
      "text/plain": "[1, 1, 4, 2, 1, 1, 0, 0]"
     },
     "execution_count": 3,
     "metadata": {},
     "output_type": "execute_result"
    }
   ],
   "source": [
    "import q22 as q_now\n",
    "import importlib\n",
    "from ListNode import ListNode\n",
    "\n",
    "importlib.reload(q_now)\n",
    "S = q_now.solution()\n",
    "\n",
    "S.dailyTemperature([73,74,75,71,69,72,76,73])\n"
   ],
   "metadata": {
    "collapsed": false,
    "pycharm": {
     "name": "#%%\n"
    }
   }
  }
 ],
 "metadata": {
  "kernelspec": {
   "display_name": "Python 3",
   "language": "python",
   "name": "python3"
  },
  "language_info": {
   "codemirror_mode": {
    "name": "ipython",
    "version": 2
   },
   "file_extension": ".py",
   "mimetype": "text/x-python",
   "name": "python",
   "nbconvert_exporter": "python",
   "pygments_lexer": "ipython2",
   "version": "2.7.6"
  }
 },
 "nbformat": 4,
 "nbformat_minor": 0
}