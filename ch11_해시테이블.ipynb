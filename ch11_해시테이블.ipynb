{
 "cells": [
  {
   "cell_type": "code",
   "execution_count": 1,
   "outputs": [
    {
     "name": "stdout",
     "output_type": "stream",
     "text": [
      "1\n",
      "-1\n",
      "1\n",
      "-1\n"
     ]
    }
   ],
   "source": [
    "import q28 as q_now\n",
    "\n",
    "import importlib\n",
    "from ListNode import ListNode\n",
    "\n",
    "importlib.reload(q_now)\n",
    "obj = q_now.MyHashMap()\n",
    "obj.put(1,1)\n",
    "obj.put(2,2)\n",
    "print(obj.get(1))\n",
    "print(obj.get(3))\n",
    "obj.put(2,1)\n",
    "print(obj.get(2))\n",
    "obj.remove(2)\n",
    "print(obj.get(2))\n"
   ],
   "metadata": {
    "collapsed": false,
    "pycharm": {
     "name": "#%%\n"
    }
   }
  },
  {
   "cell_type": "code",
   "execution_count": 3,
   "outputs": [
    {
     "data": {
      "text/plain": "0"
     },
     "execution_count": 3,
     "metadata": {},
     "output_type": "execute_result"
    }
   ],
   "source": [
    "import q29 as q_now\n",
    "\n",
    "import importlib\n",
    "from ListNode import ListNode\n",
    "\n",
    "importlib.reload(q_now)\n",
    "S = q_now.Solution()\n",
    "S.numJewelsInStones(jewels = \"z\", stones = \"ZZ\")"
   ],
   "metadata": {
    "collapsed": false,
    "pycharm": {
     "name": "#%%\n"
    }
   }
  },
  {
   "cell_type": "code",
   "execution_count": 7,
   "metadata": {
    "collapsed": true,
    "pycharm": {
     "name": "#%%\n"
    }
   },
   "outputs": [
    {
     "data": {
      "text/plain": "7"
     },
     "execution_count": 7,
     "metadata": {},
     "output_type": "execute_result"
    }
   ],
   "source": [
    "import q30 as q_now\n",
    "import importlib\n",
    "from ListNode import ListNode\n",
    "\n",
    "importlib.reload(q_now)\n",
    "S = q_now.Solution()\n",
    "S.lengthOfLongestSubstring('aabcdbefgh')"
   ]
  },
  {
   "cell_type": "code",
   "execution_count": 22,
   "outputs": [
    {
     "data": {
      "text/plain": "[1, 2]"
     },
     "execution_count": 22,
     "metadata": {},
     "output_type": "execute_result"
    }
   ],
   "source": [
    "import q31 as q_now\n",
    "import importlib\n",
    "from ListNode import ListNode\n",
    "\n",
    "importlib.reload(q_now)\n",
    "S = q_now.Solution()\n",
    "S.topKFrequent([1,1,1,2,2,3], 2)"
   ],
   "metadata": {
    "collapsed": false,
    "pycharm": {
     "name": "#%%\n"
    }
   }
  },
  {
   "cell_type": "code",
   "execution_count": 13,
   "outputs": [
    {
     "name": "stdout",
     "output_type": "stream",
     "text": [
      "[('a1', 'b1'), ('a2', 'b2')]\n",
      "[('a1', 'b1', 'c1'), ('a2', 'b2', 'c2')]\n",
      "[('a1', 'b1', 'c1', 'd1'), ('a2', 'b2', 'c2', 'd2')]\n"
     ]
    }
   ],
   "source": [
    "# zip()\n",
    "# 2개 이상의 시퀀스를 짧은 길이를 기준으로 일대일 대응하는 새로운 튜플 시퀀스를 만드는 함수\n",
    "a = ['a1','a2']\n",
    "b = ['b1','b2']\n",
    "c = ['c1','c2']\n",
    "d = ['d1','d2']\n",
    "\n",
    "print(list(zip(a,b)))\n",
    "print(list(zip(a,b,c)))\n",
    "print(list(zip(a,b,c,d)))"
   ],
   "metadata": {
    "collapsed": false,
    "pycharm": {
     "name": "#%%\n"
    }
   }
  },
  {
   "cell_type": "code",
   "execution_count": 21,
   "outputs": [
    {
     "name": "stdout",
     "output_type": "stream",
     "text": [
      "['apple', 'banana', 'melon', 'tomato']\n",
      "apple banana melon tomato\n",
      "apple banana melon tomato\n",
      "0\n",
      "[1, 2, 3]\n",
      "[0, 1, 2]\n",
      "3\n",
      "{'year': '2022', 'month': '01', 'day': '07'}\n",
      "{'year': '2022', 'month': '01', 'day': '09'}\n"
     ]
    }
   ],
   "source": [
    "# aseterisk (*)\n",
    "# *: Sequence unpacking operator\n",
    "fruits = ['apple', 'banana', 'melon', 'tomato']\n",
    "\n",
    "# 모든 원소를 출력하고 싶음\n",
    "print(fruits)\n",
    "print(fruits[0], fruits[1], fruits[2], fruits[3])\n",
    "print(*fruits)\n",
    "\n",
    "a, *b = [0, 1, 2, 3]\n",
    "print(a)\n",
    "print(b)\n",
    "\n",
    "*a, b = [0, 1, 2, 3]\n",
    "print(a)\n",
    "print(b)\n",
    "\n",
    "\n",
    "# *: key/value pair unpacking operator\n",
    "date_info = {'year': '2022', 'month': '01', 'day': '07'}\n",
    "print(date_info)\n",
    "new_info = {**date_info, 'day': '09'}\n",
    "print(new_info)\n",
    "\n"
   ],
   "metadata": {
    "collapsed": false,
    "pycharm": {
     "name": "#%%\n"
    }
   }
  }
 ],
 "metadata": {
  "kernelspec": {
   "display_name": "Python 3",
   "language": "python",
   "name": "python3"
  },
  "language_info": {
   "codemirror_mode": {
    "name": "ipython",
    "version": 2
   },
   "file_extension": ".py",
   "mimetype": "text/x-python",
   "name": "python",
   "nbconvert_exporter": "python",
   "pygments_lexer": "ipython2",
   "version": "2.7.6"
  }
 },
 "nbformat": 4,
 "nbformat_minor": 0
}