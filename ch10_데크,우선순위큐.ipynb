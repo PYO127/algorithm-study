{
 "cells": [
  {
   "cell_type": "code",
   "execution_count": 1,
   "metadata": {
    "collapsed": true,
    "pycharm": {
     "name": "#%%\n"
    }
   },
   "outputs": [
    {
     "name": "stdout",
     "output_type": "stream",
     "text": [
      "1\n",
      "1\n",
      "2\n",
      "3\n",
      "4\n",
      "4\n",
      "5\n",
      "6\n"
     ]
    }
   ],
   "source": [
    "import q27 as q_now\n",
    "\n",
    "import importlib\n",
    "from ListNode import ListNode\n",
    "\n",
    "importlib.reload(q_now)\n",
    "q = q_now.Solution()\n",
    "\n",
    "\n",
    "lists = [\n",
    "    ListNode(1,ListNode(4,ListNode(5))),\n",
    "    ListNode(1,ListNode(3,ListNode(4))),\n",
    "    ListNode(2,ListNode(6))\n",
    "]\n",
    "\n",
    "\n",
    "ans = q.mergeKLists(lists)\n",
    "while ans:\n",
    "    print(ans.val)\n",
    "    ans = ans.next\n"
   ]
  }
 ],
 "metadata": {
  "kernelspec": {
   "display_name": "Python 3",
   "language": "python",
   "name": "python3"
  },
  "language_info": {
   "codemirror_mode": {
    "name": "ipython",
    "version": 2
   },
   "file_extension": ".py",
   "mimetype": "text/x-python",
   "name": "python",
   "nbconvert_exporter": "python",
   "pygments_lexer": "ipython2",
   "version": "2.7.6"
  }
 },
 "nbformat": 4,
 "nbformat_minor": 0
}