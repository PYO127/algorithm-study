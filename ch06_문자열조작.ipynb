{
 "cells": [
  {
   "cell_type": "code",
   "execution_count": 19,
   "metadata": {
    "collapsed": true,
    "pycharm": {
     "name": "#%%\n"
    }
   },
   "outputs": [
    {
     "name": "stdout",
     "output_type": "stream",
     "text": [
      "True\n",
      "False\n"
     ]
    }
   ],
   "source": [
    "import re\n",
    "\n",
    "import q01 as q_now\n",
    "import importlib\n",
    "\n",
    "importlib.reload(q_now)\n",
    "S = q_now.solution()\n",
    "print(S.isPalindrome_slicing(\"A man, a plan, a canal: Panama\"))\n",
    "print(S.isPalindrome_slicing(\"race a car\"))"
   ]
  },
  {
   "cell_type": "markdown",
   "source": [],
   "metadata": {
    "collapsed": false,
    "pycharm": {
     "name": "#%% md\n"
    }
   }
  },
  {
   "cell_type": "code",
   "execution_count": 23,
   "outputs": [
    {
     "name": "stdout",
     "output_type": "stream",
     "text": [
      "['r', 'e', 'v', 'e', 'r', 's', 'e']\n",
      "['e', 's', 'r', 'e', 'v', 'e', 'r']\n",
      "['r', 'e', 'v', 'e', 'r', 's', 'e']\n"
     ]
    }
   ],
   "source": [
    "import q02 as q_now\n",
    "import importlib\n",
    "\n",
    "importlib.reload(q_now)\n",
    "S = q_now.solution()\n",
    "mystr = [\"r\", \"e\", \"v\", \"e\", \"r\", \"s\", \"e\"]\n",
    "print(mystr)\n",
    "S.reverseString(mystr)\n",
    "print(mystr)\n",
    "S.reverseString_reveres(mystr)\n",
    "print(mystr)"
   ],
   "metadata": {
    "collapsed": false,
    "pycharm": {
     "name": "#%%\n"
    }
   }
  },
  {
   "cell_type": "code",
   "execution_count": 34,
   "outputs": [
    {
     "name": "stdout",
     "output_type": "stream",
     "text": [
      "['1B', '2A', '2B', '4C']\n",
      "None\n",
      "['2A', '1B', '2B', '4C']\n"
     ]
    }
   ],
   "source": [
    "import q03 as q_now\n",
    "import importlib\n",
    "\n",
    "importlib.reload(q_now)\n",
    "S = q_now.solution()\n",
    "\n",
    "logs = [\"dig1 8 1 5 1\",\"let3 art can\",\"dig2 3 6\",\"let2 own kit dig\",\"let1 art zero\"]\n",
    "\n",
    "S.reorderLogFiles(logs)\n",
    "\n",
    "\n",
    "unordered_list = [\"2A\", \"2B\", \"1B\", \"4C\"]\n",
    "sorted1 = sorted(unordered_list)\n",
    "print(sorted1) # ['1B', '2A', '2B', '4C']\n",
    "print(unordered_list.sort(key=lambda x: (x[1], x[0]))) # ['2A', '1B', '2B', '4C']\n"
   ],
   "metadata": {
    "collapsed": false,
    "pycharm": {
     "name": "#%%\n"
    }
   }
  },
  {
   "cell_type": "code",
   "execution_count": 61,
   "outputs": [
    {
     "name": "stdout",
     "output_type": "stream",
     "text": [
      "Counter({'ball': 2, 'a': 1, 'the': 1, 'flew': 1, 'far': 1, 'after': 1, 'it': 1, 'was': 1})\n"
     ]
    },
    {
     "data": {
      "text/plain": "'ball'"
     },
     "execution_count": 61,
     "metadata": {},
     "output_type": "execute_result"
    }
   ],
   "source": [
    "import q04 as q_now\n",
    "import importlib\n",
    "import re\n",
    "import collections\n",
    "\n",
    "importlib.reload(q_now)\n",
    "S = q_now.solution()\n",
    "\n",
    "paragraph = \"Bob hit a ball, the hit BALL flew far after it was hit.\"\n",
    "banned = [\"hit\", \"bob\"]\n",
    "\n",
    "counter = collections.Counter([word for word in re.sub(r'[^\\w]', ' ', paragraph).lower().split() if word not in banned])\n",
    "\n",
    "print(counter)\n",
    "counter.most_common(1)[0][0]\n",
    "\n"
   ],
   "metadata": {
    "collapsed": false,
    "pycharm": {
     "name": "#%%\n"
    }
   }
  },
  {
   "cell_type": "code",
   "execution_count": 85,
   "outputs": [
    {
     "data": {
      "text/plain": "[['eat', 'tea', 'ate'], ['tan', 'nat'], ['bat']]"
     },
     "execution_count": 85,
     "metadata": {},
     "output_type": "execute_result"
    }
   ],
   "source": [
    "\n",
    "import q05 as q_now\n",
    "import importlib\n",
    "\n",
    "importlib.reload(q_now)\n",
    "S = q_now.solution()\n",
    "strs = [\"eat\",\"tea\",\"tan\",\"ate\",\"nat\",\"bat\"]\n",
    "\n",
    "S.groupAnagrams(strs)\n"
   ],
   "metadata": {
    "collapsed": false,
    "pycharm": {
     "name": "#%%\n"
    }
   }
  }
 ],
 "metadata": {
  "kernelspec": {
   "display_name": "Python 3",
   "language": "python",
   "name": "python3"
  },
  "language_info": {
   "codemirror_mode": {
    "name": "ipython",
    "version": 2
   },
   "file_extension": ".py",
   "mimetype": "text/x-python",
   "name": "python",
   "nbconvert_exporter": "python",
   "pygments_lexer": "ipython2",
   "version": "2.7.6"
  }
 },
 "nbformat": 4,
 "nbformat_minor": 0
}