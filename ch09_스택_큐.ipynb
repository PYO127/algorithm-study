{
 "cells": [
  {
   "cell_type": "code",
   "execution_count": 1,
   "metadata": {
    "collapsed": true,
    "pycharm": {
     "name": "#%%\n"
    }
   },
   "outputs": [
    {
     "data": {
      "text/plain": "False"
     },
     "execution_count": 1,
     "metadata": {},
     "output_type": "execute_result"
    }
   ],
   "source": [
    "import q20 as q_now\n",
    "import importlib\n",
    "from ListNode import ListNode\n",
    "\n",
    "importlib.reload(q_now)\n",
    "S = q_now.solution()\n",
    "\n",
    "\n",
    "tmp = {'(': ')',\n",
    "       '[': ']',\n",
    "       '{': '}'}\n",
    "\n",
    "string = '[}'\n",
    "S.isValid(string)"
   ]
  },
  {
   "cell_type": "code",
   "execution_count": 2,
   "outputs": [
    {
     "data": {
      "text/plain": "'acdb'"
     },
     "execution_count": 2,
     "metadata": {},
     "output_type": "execute_result"
    }
   ],
   "source": [
    "import q21 as q_now\n",
    "import importlib\n",
    "from ListNode import ListNode\n",
    "\n",
    "importlib.reload(q_now)\n",
    "S = q_now.solution()\n",
    "\n",
    "#S.removeDuplicateLetters_recursive('cdacdcbc')\n",
    "S.removeDuplicateLetters_stack('cdacdcbc')\n"
   ],
   "metadata": {
    "collapsed": false,
    "pycharm": {
     "name": "#%%\n"
    }
   }
  },
  {
   "cell_type": "code",
   "execution_count": 3,
   "outputs": [
    {
     "data": {
      "text/plain": "[1, 1, 4, 2, 1, 1, 0, 0]"
     },
     "execution_count": 3,
     "metadata": {},
     "output_type": "execute_result"
    }
   ],
   "source": [
    "import q22 as q_now\n",
    "import importlib\n",
    "from ListNode import ListNode\n",
    "\n",
    "importlib.reload(q_now)\n",
    "S = q_now.solution()\n",
    "\n",
    "S.dailyTemperature([73,74,75,71,69,72,76,73])\n"
   ],
   "metadata": {
    "collapsed": false,
    "pycharm": {
     "name": "#%%\n"
    }
   }
  },
  {
   "cell_type": "code",
   "execution_count": 6,
   "outputs": [
    {
     "name": "stdout",
     "output_type": "stream",
     "text": [
      "stack.top(): 2\n",
      "stack.pop(): 2\n",
      "stack.pop(): 1\n",
      "stack.empty(): True\n"
     ]
    }
   ],
   "source": [
    "import q23 as q_now\n",
    "import importlib\n",
    "from ListNode import ListNode\n",
    "\n",
    "importlib.reload(q_now)\n",
    "stack = q_now.MyStack()\n",
    "\n",
    "stack.push(1)\n",
    "stack.push(2)\n",
    "print(f\"stack.top(): {stack.top()}\")\n",
    "print(f\"stack.pop(): {stack.pop()}\")\n",
    "print(f\"stack.pop(): {stack.pop()}\")\n",
    "print(f\"stack.empty(): {stack.empty()}\")\n",
    "\n"
   ],
   "metadata": {
    "collapsed": false,
    "pycharm": {
     "name": "#%%\n"
    }
   }
  },
  {
   "cell_type": "code",
   "execution_count": 20,
   "outputs": [
    {
     "name": "stdout",
     "output_type": "stream",
     "text": [
      "q.pop(): 1\n",
      "q.pop(): 2\n",
      "q.pop(): 3\n",
      "q.pop(): 4\n",
      "q.pop(): 5\n",
      "q.empty(): True\n"
     ]
    },
    {
     "ename": "IndexError",
     "evalue": "list index out of range",
     "output_type": "error",
     "traceback": [
      "\u001B[0;31m---------------------------------------------------------------------------\u001B[0m",
      "\u001B[0;31mIndexError\u001B[0m                                Traceback (most recent call last)",
      "Input \u001B[0;32mIn [20]\u001B[0m, in \u001B[0;36m<cell line: 21>\u001B[0;34m()\u001B[0m\n\u001B[1;32m     18\u001B[0m \u001B[38;5;28mprint\u001B[39m(\u001B[38;5;124mf\u001B[39m\u001B[38;5;124m\"\u001B[39m\u001B[38;5;124mq.pop(): \u001B[39m\u001B[38;5;132;01m{\u001B[39;00mq\u001B[38;5;241m.\u001B[39mpop()\u001B[38;5;132;01m}\u001B[39;00m\u001B[38;5;124m\"\u001B[39m)\n\u001B[1;32m     19\u001B[0m \u001B[38;5;28mprint\u001B[39m(\u001B[38;5;124mf\u001B[39m\u001B[38;5;124m\"\u001B[39m\u001B[38;5;124mq.empty(): \u001B[39m\u001B[38;5;132;01m{\u001B[39;00mq\u001B[38;5;241m.\u001B[39mempty()\u001B[38;5;132;01m}\u001B[39;00m\u001B[38;5;124m\"\u001B[39m)\n\u001B[0;32m---> 21\u001B[0m \u001B[38;5;28mprint\u001B[39m(\u001B[38;5;124mf\u001B[39m\u001B[38;5;124m\"\u001B[39m\u001B[38;5;124mq.peek(): \u001B[39m\u001B[38;5;132;01m{\u001B[39;00mq\u001B[38;5;241m.\u001B[39mpeek()\u001B[38;5;132;01m}\u001B[39;00m\u001B[38;5;124m\"\u001B[39m)\n",
      "File \u001B[0;32m~/Algorithm_interview/q24.py:24\u001B[0m, in \u001B[0;36mMyQueue.peek\u001B[0;34m(self)\u001B[0m\n\u001B[1;32m     22\u001B[0m         \u001B[38;5;28mself\u001B[39m\u001B[38;5;241m.\u001B[39ms2\u001B[38;5;241m.\u001B[39mappend(\u001B[38;5;28mself\u001B[39m\u001B[38;5;241m.\u001B[39ms1\u001B[38;5;241m.\u001B[39mpop())\n\u001B[1;32m     23\u001B[0m     \u001B[38;5;66;03m# while문 지나고 나면 s1은 empty\u001B[39;00m\n\u001B[0;32m---> 24\u001B[0m \u001B[38;5;28;01mreturn\u001B[39;00m \u001B[38;5;28;43mself\u001B[39;49m\u001B[38;5;241;43m.\u001B[39;49m\u001B[43ms2\u001B[49m\u001B[43m[\u001B[49m\u001B[38;5;241;43m-\u001B[39;49m\u001B[38;5;241;43m1\u001B[39;49m\u001B[43m]\u001B[49m\n",
      "\u001B[0;31mIndexError\u001B[0m: list index out of range"
     ]
    }
   ],
   "source": [
    "import q24 as q_now\n",
    "import importlib\n",
    "from ListNode import ListNode\n",
    "\n",
    "importlib.reload(q_now)\n",
    "q = q_now.MyQueue()\n",
    "\n",
    "q.push(1)\n",
    "q.push(2)\n",
    "q.push(3)\n",
    "q.push(4)\n",
    "print(f\"q.pop(): {q.pop()}\")\n",
    "print(f\"q.pop(): {q.pop()}\")\n",
    "\n",
    "print(f\"q.pop(): {q.pop()}\")\n",
    "q.push(5)\n",
    "print(f\"q.pop(): {q.pop()}\")\n",
    "print(f\"q.pop(): {q.pop()}\")\n",
    "print(f\"q.empty(): {q.empty()}\")\n",
    "\n",
    "print(f\"q.peek(): {q.peek()}\")"
   ],
   "metadata": {
    "collapsed": false,
    "pycharm": {
     "name": "#%%\n"
    }
   }
  }
 ],
 "metadata": {
  "kernelspec": {
   "display_name": "Python 3",
   "language": "python",
   "name": "python3"
  },
  "language_info": {
   "codemirror_mode": {
    "name": "ipython",
    "version": 2
   },
   "file_extension": ".py",
   "mimetype": "text/x-python",
   "name": "python",
   "nbconvert_exporter": "python",
   "pygments_lexer": "ipython2",
   "version": "2.7.6"
  }
 },
 "nbformat": 4,
 "nbformat_minor": 0
}