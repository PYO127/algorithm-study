{
 "cells": [
  {
   "cell_type": "code",
   "execution_count": 2,
   "metadata": {
    "collapsed": true,
    "pycharm": {
     "name": "#%%\n"
    }
   },
   "outputs": [
    {
     "name": "stdout",
     "output_type": "stream",
     "text": [
      "False\n",
      "False\n",
      "False\n",
      "True\n",
      "False\n"
     ]
    }
   ],
   "source": [
    "import q13 as q_now\n",
    "import importlib\n",
    "from ListNode import ListNode\n",
    "\n",
    "importlib.reload(q_now)\n",
    "S = q_now.solution()\n",
    "\n",
    "# head = ListNode(1,ListNode(2,ListNode(2,ListNode(1))))\n",
    "head = ListNode(1,ListNode(2,ListNode(3,ListNode(1))))\n",
    "\n",
    "\n",
    "print(S.isPalindrom_List(head))\n",
    "print(S.isPalindrom_Deque(head))\n",
    "print(S.isPalindrom_runner(head))\n",
    "\n",
    "print(not None)\n",
    "print(not 'A')"
   ]
  },
  {
   "cell_type": "code",
   "execution_count": 5,
   "outputs": [
    {
     "name": "stdout",
     "output_type": "stream",
     "text": [
      "1\n",
      "1\n",
      "2\n",
      "3\n",
      "4\n",
      "5\n"
     ]
    }
   ],
   "source": [
    "import q14 as q_now\n",
    "import importlib\n",
    "from ListNode import ListNode\n",
    "\n",
    "importlib.reload(q_now)\n",
    "S = q_now.solution()\n",
    "\n",
    "head0 = ListNode(1,ListNode(2,ListNode(5)))\n",
    "head1 = ListNode(1,ListNode(3,ListNode(4)))\n",
    "\n",
    "ans = S.mergeTwoLists(head0, head1)\n",
    "while ans:\n",
    "    print(ans.val)\n",
    "    ans = ans.next"
   ],
   "metadata": {
    "collapsed": false,
    "pycharm": {
     "name": "#%%\n"
    }
   }
  },
  {
   "cell_type": "code",
   "execution_count": 9,
   "outputs": [
    {
     "name": "stdout",
     "output_type": "stream",
     "text": [
      "5\n",
      "4\n",
      "3\n",
      "2\n",
      "1\n"
     ]
    }
   ],
   "source": [
    "import q15 as q_now\n",
    "import importlib\n",
    "from ListNode import ListNode\n",
    "\n",
    "importlib.reload(q_now)\n",
    "S = q_now.solution()\n",
    "\n",
    "head = ListNode(1,ListNode(2,ListNode(3,ListNode(4, ListNode(5)))))\n",
    "\n",
    "# ans = S.reverseList_iter(head)\n",
    "ans = S.reverseList_recur(head)\n",
    "while ans:\n",
    "    print(ans.val)\n",
    "    ans = ans.next\n"
   ],
   "metadata": {
    "collapsed": false,
    "pycharm": {
     "name": "#%%\n"
    }
   }
  }
 ],
 "metadata": {
  "kernelspec": {
   "display_name": "Python 3",
   "language": "python",
   "name": "python3"
  },
  "language_info": {
   "codemirror_mode": {
    "name": "ipython",
    "version": 2
   },
   "file_extension": ".py",
   "mimetype": "text/x-python",
   "name": "python",
   "nbconvert_exporter": "python",
   "pygments_lexer": "ipython2",
   "version": "2.7.6"
  }
 },
 "nbformat": 4,
 "nbformat_minor": 0
}