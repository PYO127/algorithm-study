{
 "cells": [
  {
   "cell_type": "code",
   "execution_count": 3,
   "outputs": [],
   "source": [
    "graph = {\n",
    "    1: [2,3,4],\n",
    "    2: [5],\n",
    "    3: [5],\n",
    "    4: [],\n",
    "    5: [6,7],\n",
    "    6: [],\n",
    "    7: [3],\n",
    "}"
   ],
   "metadata": {
    "collapsed": false,
    "pycharm": {
     "name": "#%%\n"
    }
   }
  },
  {
   "cell_type": "code",
   "execution_count": 4,
   "metadata": {
    "collapsed": true,
    "pycharm": {
     "name": "#%%\n"
    }
   },
   "outputs": [],
   "source": [
    "# p324 DFS realiztion by recursion\n",
    "def recursive_DFS(v, discovered=[]):\n",
    "    discovered.append(v)\n",
    "    for w in graph[v]:\n",
    "        if w not in discovered:\n",
    "            discovered = recursive_DFS(w,discovered)\n",
    "    return discovered"
   ]
  },
  {
   "cell_type": "code",
   "execution_count": 5,
   "outputs": [],
   "source": [
    "# p325 DFS using stack by iteration\n",
    "def iterative_DFS(start_v):\n",
    "    discovered = []\n",
    "    stack = [start_v]\n",
    "    while stack:\n",
    "        v = stack.pop()\n",
    "        if v not in discovered:\n",
    "            discovered.append(v)\n",
    "            for w in graph[v]:\n",
    "                stack.append(w)\n",
    "    return stack"
   ],
   "metadata": {
    "collapsed": false,
    "pycharm": {
     "name": "#%%\n"
    }
   }
  },
  {
   "cell_type": "code",
   "execution_count": 6,
   "outputs": [],
   "source": [
    "# p327 BFS using queue\n",
    "def iterative_BFS(start_v):\n",
    "    discovered = [start_v]\n",
    "    queue = [start_v]\n",
    "    while queue:\n",
    "        v = queue.pop(0)\n",
    "        for w in graph[v]:\n",
    "            if w not in discovered:\n",
    "                queue.append(w)\n",
    "                discovered.append(w)\n",
    "    return discovered"
   ],
   "metadata": {
    "collapsed": false,
    "pycharm": {
     "name": "#%%\n"
    }
   }
  },
  {
   "cell_type": "code",
   "execution_count": 7,
   "outputs": [],
   "source": [
    "# p331 Q32. 섬의 개수\n",
    "from typing import List\n",
    "class Solution:\n",
    "    def numIsland(self, grid:List[List[str]]) -> int:\n",
    "        def dfs(i, j): # 중첩함수\n",
    "            if i<0 or i>= len(grid) or \\\n",
    "                j<0 or j>= len(grid[0]) or \\\n",
    "                grid[i][j] != '1':\n",
    "                return\n",
    "\n",
    "            grid[i][j] = '0'\n",
    "            dfs(i+1,j)\n",
    "            dfs(i-1,j)\n",
    "            dfs(i,j+1)\n",
    "            dfs(i,j-1)\n",
    "\n",
    "        count = 0\n",
    "        for i in range(0, len(grid)):\n",
    "            for j in range(0, len(grid[0])):\n",
    "                if grid[i][j] == '1':\n",
    "                    dfs(i,j)\n",
    "                    count += 1\n",
    "        return count"
   ],
   "metadata": {
    "collapsed": false,
    "pycharm": {
     "name": "#%%\n"
    }
   }
  },
  {
   "cell_type": "code",
   "execution_count": 11,
   "outputs": [
    {
     "name": "stdout",
     "output_type": "stream",
     "text": [
      "섬의 개수: 1\n"
     ]
    }
   ],
   "source": [
    "grid = [\n",
    "    ['1','1','1','1','0'],\n",
    "    ['1','1','0','1','0'],\n",
    "    ['1','1','0','0','0'],\n",
    "    ['0','0','0','0','0']\n",
    "]\n",
    "grid = [\n",
    "    ['1','1','0','1'],\n",
    "    ['1','1','1','1'],\n",
    "    ['0','0','0','0'],\n",
    "    ['1','0','1','1'],\n",
    "]\n",
    "\n",
    "\n",
    "\n",
    "S = Solution()\n",
    "\n",
    "print(f'섬의 개수: {S.numIsland(grid)}')\n",
    "\n",
    "\n"
   ],
   "metadata": {
    "collapsed": false,
    "pycharm": {
     "name": "#%%\n"
    }
   }
  }
 ],
 "metadata": {
  "kernelspec": {
   "display_name": "Python 3",
   "language": "python",
   "name": "python3"
  },
  "language_info": {
   "codemirror_mode": {
    "name": "ipython",
    "version": 2
   },
   "file_extension": ".py",
   "mimetype": "text/x-python",
   "name": "python",
   "nbconvert_exporter": "python",
   "pygments_lexer": "ipython2",
   "version": "2.7.6"
  }
 },
 "nbformat": 4,
 "nbformat_minor": 0
}