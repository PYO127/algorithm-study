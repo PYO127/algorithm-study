{
 "cells": [
  {
   "cell_type": "code",
   "execution_count": 11,
   "outputs": [],
   "source": [
    "import collections\n"
   ],
   "metadata": {
    "collapsed": false,
    "pycharm": {
     "name": "#%%\n"
    }
   }
  },
  {
   "cell_type": "markdown",
   "source": [
    "List 자료형 (p121)"
   ],
   "metadata": {
    "collapsed": false,
    "pycharm": {
     "name": "#%% md\n"
    }
   }
  },
  {
   "cell_type": "code",
   "execution_count": null,
   "outputs": [],
   "source": [
    "# append Vs. insert\n",
    "\n",
    "a = [1, 2, 3]\n",
    "\n",
    "a.append(4) # 제일 뒤에 삽입\n",
    "print(a) # [1, 2, 3, 4]\n",
    "a.insert(1, 5) # a.insert(index, value): index 자리에 value 삽입\n",
    "print(a) # [1, 5, 2, 3, 4]"
   ],
   "metadata": {
    "collapsed": false,
    "pycharm": {
     "name": "#%%\n",
     "is_executing": true
    }
   }
  },
  {
   "cell_type": "code",
   "execution_count": null,
   "outputs": [],
   "source": [
    "# 인덱스 예외 처리\n",
    "a = [1,2,3,4,5]\n",
    "try:\n",
    "    print(a[10])\n",
    "except IndexError:\n",
    "    print('존재하지 않는 인덱스')"
   ],
   "metadata": {
    "collapsed": false,
    "pycharm": {
     "name": "#%%\n",
     "is_executing": true
    }
   }
  },
  {
   "cell_type": "code",
   "execution_count": null,
   "outputs": [],
   "source": [
    "# 삭제 del Vs. remove\n",
    "a = [1,2,3,4,5,\"six\"]\n",
    "del a[1] # del a[index] : 인덱스 위치의 요소 제거\n",
    "print(a) # [1, 3, 4, 5, 'six']\n",
    "a.remove(3) # a.remove(3) : 값에 해당하는 요소 제거\n",
    "print(a) # [1, 4, 5, 'six']\n",
    "a.remove('six')\n",
    "print(a) # [1, 4, 5]\n",
    "\n",
    "# remove 로 제거할 때 해당 값이 여러개면 어떻게 될까?\n",
    "a = [1,2,3,4,3,6,5]\n",
    "a.remove(3)\n",
    "print(a) # [1, 2, 4, 3, 6, 5] : 첫 번째로 일치하는 요소 제거\n",
    "\n",
    "# pop\n",
    "print(a.pop()) # 5\n",
    "print(a) # [1, 2, 4, 3, 6] : 마지막 값 제거\n",
    "\n",
    "print(a.pop(2))\n",
    "print(a) # [1, 2, 3, 6] : 해당 인덱스 요소 제거\n",
    "\n"
   ],
   "metadata": {
    "collapsed": false,
    "pycharm": {
     "name": "#%%\n",
     "is_executing": true
    }
   }
  },
  {
   "cell_type": "markdown",
   "source": [],
   "metadata": {
    "collapsed": false,
    "pycharm": {
     "name": "#%% md\n"
    }
   }
  },
  {
   "cell_type": "markdown",
   "source": [
    "Dictionary 자료형 (p128)\n",
    "    python 3.7+ 이상: 입력 순서 유지 (But 순서가 유지되는 딕셔너리 사용이 필요한 경우 collections.OrderedDict() 사용하자)\n",
    "    해시 테이블로 구현되어 있음"
   ],
   "metadata": {
    "collapsed": false,
    "pycharm": {
     "name": "#%% md\n"
    }
   }
  },
  {
   "cell_type": "code",
   "execution_count": null,
   "outputs": [],
   "source": [
    "# 선언\n",
    "a = dict() # a = {} 도 가능\n",
    "a = {'key1': 'value1', 'key2': 'value3', 3: 'value3'} # 키로\n",
    "print(a)\n",
    "a['key4'] = 'value4'\n",
    "print(a)"
   ],
   "metadata": {
    "collapsed": false,
    "pycharm": {
     "name": "#%%\n"
    }
   }
  },
  {
   "cell_type": "code",
   "execution_count": 27,
   "outputs": [
    {
     "name": "stdout",
     "output_type": "stream",
     "text": [
      "존재하지 않는 키\n",
      "'key3' in a: False\n",
      "'key4' in a: True\n"
     ]
    }
   ],
   "source": [
    "# 예외 처리\n",
    "try:\n",
    "    print(a['key3'])\n",
    "except KeyError:\n",
    "    print('존재하지 않는 키')\n",
    "\n",
    "# 'key' in a 로 딕셔너리에 키가 존재하는지 확인 가능\n",
    "print(f\"'key3' in a: {'key3' in a}\")\n",
    "print(f\"'key4' in a: {'key4' in a}\")"
   ],
   "metadata": {
    "collapsed": false,
    "pycharm": {
     "name": "#%%\n"
    }
   }
  },
  {
   "cell_type": "code",
   "execution_count": 30,
   "outputs": [
    {
     "name": "stdout",
     "output_type": "stream",
     "text": [
      "key1 : value1\n",
      "key2 : value3\n",
      "3 : value3\n",
      "key4 : value4\n"
     ]
    }
   ],
   "source": [
    "# for문에서 사용:  items\n",
    "for key, value in a.items():\n",
    "    print(key, \":\", value)"
   ],
   "metadata": {
    "collapsed": false,
    "pycharm": {
     "name": "#%%\n"
    }
   }
  },
  {
   "cell_type": "code",
   "execution_count": 31,
   "outputs": [
    {
     "name": "stdout",
     "output_type": "stream",
     "text": [
      "{'key2': 'value3', 3: 'value3', 'key4': 'value4'}\n"
     ]
    }
   ],
   "source": [
    "# 삭제: del\n",
    "del a['key1']\n",
    "print(a)"
   ],
   "metadata": {
    "collapsed": false,
    "pycharm": {
     "name": "#%%\n"
    }
   }
  },
  {
   "cell_type": "code",
   "execution_count": 46,
   "outputs": [
    {
     "name": "stdout",
     "output_type": "stream",
     "text": [
      "a['A']: 0\n",
      "Counter({1: 3, 2: 3, 3: 3, 4: 2, 5: 1, 6: 1})\n",
      "b.most_common(1): [(1, 3)]\n",
      "b.most_common(1)[0]: (1, 3)\n",
      "b.most_common(1)[0][0]: 1\n",
      "OrderedDict([('c', 1), ('b', 3), ('d', 2), ('e', 0)])\n",
      "OrderedDict([('c', 1), ('b', 3), ('d', 2), ('e', 0), ('a', 5)])\n",
      "type(a):<class 'collections.defaultdict'>\n",
      "type(b):<class 'collections.Counter'>\n",
      "type(c):<class 'collections.OrderedDict'>\n"
     ]
    }
   ],
   "source": [
    "# 딕셔너리 모듈 (defaultdict, Counter, OrderedDict)\n",
    "a = collections.defaultdict(int) # 존재하지 않는 키 조회 시 에러메시지 출력 대신 디폴트 값을 기준으로 해당 키에 대한 딕셔너리 아이템 생성\n",
    "print(f\"a['A']: {a['A']}\")\n",
    "\n",
    "tmp = [1, 2, 3, 4, 5, 6, 1, 2, 3, 4, 1, 2, 3]\n",
    "b = collections.Counter(tmp) # 아이템에 대한 개수를 계산해 딕셔너리로 리턴\n",
    "print(b)\n",
    "# 가장 많이 있는 (원소, 갯수) 출력\n",
    "print(f'b.most_common(1): {b.most_common(1)}')\n",
    "print(f'b.most_common(1)[0]: {b.most_common(1)[0]}')\n",
    "print(f'b.most_common(1)[0][0]: {b.most_common(1)[0][0]}')\n",
    "\n",
    "c = collections.OrderedDict({'c':1, 'b':3, 'd': 2, 'e' :0}) # 입력 순서가 유지됨\n",
    "print(c)\n",
    "c['a'] = 5\n",
    "print(c)\n",
    "\n",
    "print(f\"type(a):{type(a)}\")\n",
    "print(f\"type(b):{type(b)}\")\n",
    "print(f\"type(c):{type(c)}\")\n"
   ],
   "metadata": {
    "collapsed": false,
    "pycharm": {
     "name": "#%%\n"
    }
   }
  }
 ],
 "metadata": {
  "kernelspec": {
   "display_name": "Python 3",
   "language": "python",
   "name": "python3"
  },
  "language_info": {
   "codemirror_mode": {
    "name": "ipython",
    "version": 2
   },
   "file_extension": ".py",
   "mimetype": "text/x-python",
   "name": "python",
   "nbconvert_exporter": "python",
   "pygments_lexer": "ipython2",
   "version": "2.7.6"
  }
 },
 "nbformat": 4,
 "nbformat_minor": 0
}